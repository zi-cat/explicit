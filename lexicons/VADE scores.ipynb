{
 "cells": [
  {
   "cell_type": "markdown",
   "metadata": {},
   "source": [
    "# notebook outline"
   ]
  },
  {
   "cell_type": "markdown",
   "metadata": {},
   "source": [
    "The goal of this project was to search for statistical differences between male and female-authored sex stories. In this notebook, I score each sex story based on its vocabulary. I use the sentiment and emotion lexicons (http://sentiment.nrc.ca/lexicons-for-research/) to source the score. \n",
    "\n",
    "I normalize these scores by dividing them by the length of the story. \n",
    "\n",
    "Finally, I compare the scores of male and female-authored stories. "
   ]
  },
  {
   "cell_type": "markdown",
   "metadata": {},
   "source": [
    "There are four types of scores, based on the VAD (NRC Valence, Arousal, and Dominance (VAD) Lexicon) and the NRC Emotion Lexicon. Some definitions: \n",
    "\n",
    "    valence is the positive--negative or pleasure--displeasure dimension;\n",
    "    arousal is the excited--calm or active--passive dimension; and\n",
    "    dominance is the powerful--weak or 'have full control'--'have no control' dimension.\n"
   ]
  },
  {
   "cell_type": "markdown",
   "metadata": {},
   "source": [
    "# progress bar\n",
    "because I don't like waiting\n",
    "source - https://github.com/kuk/log-progress"
   ]
  },
  {
   "cell_type": "code",
   "execution_count": null,
   "metadata": {
    "collapsed": true
   },
   "outputs": [],
   "source": [
    "def log_progress(sequence, every=None, size=None, name='Items'):\n",
    "    from ipywidgets import IntProgress, HTML, VBox\n",
    "    from IPython.display import display\n",
    "\n",
    "    is_iterator = False\n",
    "    if size is None:\n",
    "        try:\n",
    "            size = len(sequence)\n",
    "        except TypeError:\n",
    "            is_iterator = True\n",
    "    if size is not None:\n",
    "        if every is None:\n",
    "            if size <= 200:\n",
    "                every = 1\n",
    "            else:\n",
    "                every = int(size / 200)     # every 0.5%\n",
    "    else:\n",
    "        assert every is not None, 'sequence is iterator, set every'\n",
    "\n",
    "    if is_iterator:\n",
    "        progress = IntProgress(min=0, max=1, value=1)\n",
    "        progress.bar_style = 'info'\n",
    "    else:\n",
    "        progress = IntProgress(min=0, max=size, value=0)\n",
    "    label = HTML()\n",
    "    box = VBox(children=[label, progress])\n",
    "    display(box)\n",
    "\n",
    "    index = 0\n",
    "    try:\n",
    "        for index, record in enumerate(sequence, 1):\n",
    "            if index == 1 or index % every == 0:\n",
    "                if is_iterator:\n",
    "                    label.value = '{name}: {index} / ?'.format(\n",
    "                        name=name,\n",
    "                        index=index\n",
    "                    )\n",
    "                else:\n",
    "                    progress.value = index\n",
    "                    label.value = u'{name}: {index} / {size}'.format(\n",
    "                        name=name,\n",
    "                        index=index,\n",
    "                        size=size\n",
    "                    )\n",
    "            yield record\n",
    "    except:\n",
    "        progress.bar_style = 'danger'\n",
    "        raise\n",
    "    else:\n",
    "        progress.bar_style = 'success'\n",
    "        progress.value = index\n",
    "        label.value = \"{name}: {index}\".format(\n",
    "            name=name,\n",
    "            index=str(index or '?')\n",
    "        )"
   ]
  },
  {
   "cell_type": "markdown",
   "metadata": {},
   "source": [
    "# opening VAD lexicon documents"
   ]
  },
  {
   "cell_type": "code",
   "execution_count": 97,
   "metadata": {
    "collapsed": true
   },
   "outputs": [],
   "source": [
    "f = open(\"NRC-VAD-Lexicon/OneFilePerDimension/a-scores.txt\",'r')\n",
    "a = f.read()\n",
    "f = open(\"NRC-VAD-Lexicon/OneFilePerDimension/d-scores.txt\",'r')\n",
    "d = f.read()\n",
    "f = open(\"NRC-VAD-Lexicon/OneFilePerDimension/v-scores.txt\",'r')\n",
    "v = f.read()"
   ]
  },
  {
   "cell_type": "markdown",
   "metadata": {},
   "source": [
    "opening stories"
   ]
  },
  {
   "cell_type": "code",
   "execution_count": null,
   "metadata": {
    "collapsed": true
   },
   "outputs": [],
   "source": [
    "import json\n",
    "with open('data_words.json', 'r') as myfile:\n",
    "    data=myfile.read()\n",
    "data_words = json.loads(data) "
   ]
  },
  {
   "cell_type": "markdown",
   "metadata": {},
   "source": [
    "base function used for constructing dictionary of words and their VAD scores"
   ]
  },
  {
   "cell_type": "code",
   "execution_count": null,
   "metadata": {
    "collapsed": true
   },
   "outputs": [],
   "source": [
    "def construct_dict(vo):\n",
    "    dict_word = {}\n",
    "    for item in vo.split('\\n')[0:1]:\n",
    "        k = item[0]\n",
    "        v = item [1]\n",
    "        dict_word[k] = v\n",
    "    return dict_word"
   ]
  },
  {
   "cell_type": "markdown",
   "metadata": {},
   "source": [
    "# valence - make dictionary and score based on words in text"
   ]
  },
  {
   "cell_type": "code",
   "execution_count": 124,
   "metadata": {},
   "outputs": [],
   "source": [
    "dict_word_v = {}\n",
    "for item in v.split('\\n'):\n",
    "    try:\n",
    "        item = item.split('\\t')\n",
    "#         print(item)\n",
    "        k = item[0]\n",
    "        va = item [1]\n",
    "        dict_word_v[k] = va\n",
    "    except:\n",
    "        pass"
   ]
  },
  {
   "cell_type": "code",
   "execution_count": 125,
   "metadata": {},
   "outputs": [],
   "source": [
    "def story_v_score(story_text_list, dict_word_stemmed = dict_word_v):\n",
    "#     story = [ps.stem(i) for i in story_text_list]\n",
    "    story = story_text_list\n",
    "    c = Counter(story)\n",
    "    w_scores = 0\n",
    "    \n",
    "    for w in c:\n",
    "#         print(w)\n",
    "        word = w\n",
    "        freq = c[w]\n",
    "        if word in dict_word_stemmed:\n",
    "            count = float(dict_word_stemmed[word])\n",
    "            score = count * freq\n",
    "            w_scores += score\n",
    "#         print(w_scores)\n",
    "        #w_scores = sum(w_scores)\n",
    "    return(w_scores)\n",
    "        "
   ]
  },
  {
   "cell_type": "code",
   "execution_count": 126,
   "metadata": {},
   "outputs": [],
   "source": [
    "story_v_scores = []\n",
    "for story in log_progress(data_words):\n",
    "    story_v_scores.append(story_v_score(story))\n",
    "#     print(story_v_score(story))\n"
   ]
  },
  {
   "cell_type": "code",
   "execution_count": 114,
   "metadata": {
    "collapsed": true
   },
   "outputs": [],
   "source": [
    "import pandas as pd"
   ]
  },
  {
   "cell_type": "code",
   "execution_count": 131,
   "metadata": {},
   "outputs": [],
   "source": [
    "master_df['raw_v_score'] = story_v_scores\n",
    "master_df.to_csv(\"master_df.csv\")"
   ]
  },
  {
   "cell_type": "code",
   "execution_count": 132,
   "metadata": {},
   "outputs": [
    {
     "data": {
      "text/plain": [
       "Index(['Unnamed: 0', 'story_text', 'story_url', 'author_url', 'story_metadata',\n",
       "       'name', 'stats', 'sex', 'age', 'date', 'category', 'avg_score',\n",
       "       'word_count', 'tags', 'votes', 'raw_v_score'],\n",
       "      dtype='object')"
      ]
     },
     "execution_count": 132,
     "metadata": {},
     "output_type": "execute_result"
    }
   ],
   "source": [
    "master_df.columns"
   ]
  },
  {
   "cell_type": "markdown",
   "metadata": {},
   "source": [
    "# arousal - make dictionary and score based on words in text"
   ]
  },
  {
   "cell_type": "code",
   "execution_count": 133,
   "metadata": {},
   "outputs": [],
   "source": [
    "dict_word_a = {}\n",
    "for item in a.split('\\n'):\n",
    "#     print(item)\n",
    "    try:\n",
    "#         print('try')\n",
    "        item = item.split('\\t')\n",
    "#         print(item)\n",
    "        k = item[0]\n",
    "        va = item [1]\n",
    "        dict_word_a[k] = va\n",
    "    except:\n",
    "        pass"
   ]
  },
  {
   "cell_type": "code",
   "execution_count": 134,
   "metadata": {
    "collapsed": true
   },
   "outputs": [],
   "source": [
    "def story_a_score(story_text_list, dict_word_stemmed = dict_word_a):\n",
    "#     story = [ps.stem(i) for i in story_text_list]\n",
    "    story = story_text_list\n",
    "    c = Counter(story)\n",
    "    w_scores = 0\n",
    "    \n",
    "    for w in c:\n",
    "#         print(w)\n",
    "        word = w\n",
    "        freq = c[w]\n",
    "        if word in dict_word_stemmed:\n",
    "            count = float(dict_word_stemmed[word])\n",
    "            score = count * freq\n",
    "            w_scores += score\n",
    "#         print(w_scores)\n",
    "        #w_scores = sum(w_scores)\n",
    "    return(w_scores)"
   ]
  },
  {
   "cell_type": "code",
   "execution_count": 135,
   "metadata": {
    "collapsed": true
   },
   "outputs": [],
   "source": [
    "story_a_scores = []\n",
    "for story in log_progress(data_words):\n",
    "    story_a_scores.append(story_a_score(story))\n",
    "#     print(story_v_score(story))"
   ]
  },
  {
   "cell_type": "code",
   "execution_count": 136,
   "metadata": {},
   "outputs": [],
   "source": [
    "master_df['raw_a_score'] = story_a_scores\n",
    "master_df.to_csv(\"master_df.csv\")"
   ]
  },
  {
   "cell_type": "code",
   "execution_count": 137,
   "metadata": {},
   "outputs": [
    {
     "data": {
      "text/plain": [
       "Index(['Unnamed: 0', 'story_text', 'story_url', 'author_url', 'story_metadata',\n",
       "       'name', 'stats', 'sex', 'age', 'date', 'category', 'avg_score',\n",
       "       'word_count', 'tags', 'votes', 'raw_v_score', 'raw_a_score'],\n",
       "      dtype='object')"
      ]
     },
     "execution_count": 137,
     "metadata": {},
     "output_type": "execute_result"
    }
   ],
   "source": [
    "master_df.columns"
   ]
  },
  {
   "cell_type": "markdown",
   "metadata": {},
   "source": [
    "# dominance - make dictionary and score based on words in text"
   ]
  },
  {
   "cell_type": "code",
   "execution_count": 122,
   "metadata": {
    "collapsed": true
   },
   "outputs": [],
   "source": [
    "dict_word_d = {}\n",
    "for item in d.split('\\n'):\n",
    "#     print(item)\n",
    "    try:\n",
    "#         print('try')\n",
    "        item = item.split('\\t')\n",
    "#         print(item)\n",
    "        k = item[0]\n",
    "        va = item [1]\n",
    "        dict_word_d[k] = va\n",
    "    except:\n",
    "        pass"
   ]
  },
  {
   "cell_type": "code",
   "execution_count": 153,
   "metadata": {
    "collapsed": true
   },
   "outputs": [],
   "source": [
    "def story_d_score(story_text_list, dict_word_stemmed = dict_word_d, ps = PorterStemmer()):\n",
    "#     story = [ps.stem(i) for i in story_text_list]\n",
    "    story = story_text_list\n",
    "    c = Counter(story)\n",
    "    w_scores = 0\n",
    "    \n",
    "    for w in c:\n",
    "#         print(w)\n",
    "        word = w\n",
    "        freq = c[w]\n",
    "        if word in dict_word_stemmed:\n",
    "            count = float(dict_word_stemmed[word])\n",
    "            score = count * freq\n",
    "            w_scores += score\n",
    "#         print(w_scores)\n",
    "        #w_scores = sum(w_scores)\n",
    "    return(w_scores)"
   ]
  },
  {
   "cell_type": "code",
   "execution_count": 141,
   "metadata": {},
   "outputs": [],
   "source": [
    "story_d_scores = []\n",
    "for story in log_progress(data_words):\n",
    "    story_d_scores.append(story_d_score(story))"
   ]
  },
  {
   "cell_type": "code",
   "execution_count": 145,
   "metadata": {},
   "outputs": [],
   "source": [
    "master_df['raw_d_score'] = story_d_scores\n",
    "master_df.to_csv(\"master_df.csv\")"
   ]
  },
  {
   "cell_type": "markdown",
   "metadata": {},
   "source": [
    "# emotion - make dictionary and score based on words in text"
   ]
  },
  {
   "cell_type": "code",
   "execution_count": 146,
   "metadata": {
    "collapsed": true
   },
   "outputs": [],
   "source": [
    "emotions = pd.read_csv(\"emotions_df.csv\")"
   ]
  },
  {
   "cell_type": "code",
   "execution_count": 149,
   "metadata": {},
   "outputs": [],
   "source": [
    "emotion_words = emotions.words\n",
    "emotion_score = emotions.total_score\n",
    "emo_dict = dict(zip(emotion_words, emotion_score))"
   ]
  },
  {
   "cell_type": "code",
   "execution_count": 152,
   "metadata": {},
   "outputs": [],
   "source": [
    "def story_emo_score(story_text_list, dict_word_stemmed = emo_dict, ps = PorterStemmer()):\n",
    "#     story = [ps.stem(i) for i in story_text_list]\n",
    "    story = story_text_list\n",
    "    c = Counter(story)\n",
    "    w_scores = 0\n",
    "    \n",
    "    for w in c:\n",
    "#         print(w)\n",
    "        word = w\n",
    "        freq = c[w]\n",
    "        if word in dict_word_stemmed:\n",
    "            count = float(dict_word_stemmed[word])\n",
    "            score = count * freq\n",
    "            w_scores += score\n",
    "#         print(w_scores)\n",
    "        #w_scores = sum(w_scores)\n",
    "    return(w_scores)"
   ]
  },
  {
   "cell_type": "code",
   "execution_count": 154,
   "metadata": {
    "collapsed": true
   },
   "outputs": [],
   "source": [
    "story_emo_scores = []\n",
    "for story in log_progress(data_words):\n",
    "    story_emo_scores.append(story_emo_score(story))"
   ]
  },
  {
   "cell_type": "code",
   "execution_count": 163,
   "metadata": {},
   "outputs": [],
   "source": [
    "master_df['raw_emo_score'] = story_emo_scores\n",
    "master_df.to_csv(\"master_df.csv\")"
   ]
  },
  {
   "cell_type": "code",
   "execution_count": 164,
   "metadata": {},
   "outputs": [
    {
     "data": {
      "text/plain": [
       "Index(['Unnamed: 0', 'story_text', 'story_url', 'author_url', 'story_metadata',\n",
       "       'name', 'stats', 'sex', 'age', 'date', 'category', 'avg_score',\n",
       "       'word_count', 'tags', 'votes', 'raw_v_score', 'raw_a_score',\n",
       "       'raw_d_score', 'raw_emo_score'],\n",
       "      dtype='object')"
      ]
     },
     "execution_count": 164,
     "metadata": {},
     "output_type": "execute_result"
    }
   ],
   "source": [
    "master_df.columns"
   ]
  },
  {
   "cell_type": "markdown",
   "metadata": {},
   "source": [
    "# normalizing the scores\n",
    "divide total score by length of story"
   ]
  },
  {
   "cell_type": "code",
   "execution_count": 177,
   "metadata": {
    "collapsed": true
   },
   "outputs": [],
   "source": [
    "lens = []\n",
    "for story in data_words:\n",
    "    lens.append(len(story))"
   ]
  },
  {
   "cell_type": "code",
   "execution_count": 178,
   "metadata": {
    "collapsed": true
   },
   "outputs": [],
   "source": [
    "import numpy as np"
   ]
  },
  {
   "cell_type": "code",
   "execution_count": 185,
   "metadata": {},
   "outputs": [
    {
     "name": "stderr",
     "output_type": "stream",
     "text": [
      "C:\\Users\\yangyang\\Documents\\UMICH\\Python Course Stuff\\Anaconda3\\lib\\site-packages\\ipykernel\\__main__.py:1: RuntimeWarning: invalid value encountered in true_divide\n",
      "  if __name__ == '__main__':\n",
      "C:\\Users\\yangyang\\Documents\\UMICH\\Python Course Stuff\\Anaconda3\\lib\\site-packages\\ipykernel\\__main__.py:2: RuntimeWarning: invalid value encountered in true_divide\n",
      "  from ipykernel import kernelapp as app\n",
      "C:\\Users\\yangyang\\Documents\\UMICH\\Python Course Stuff\\Anaconda3\\lib\\site-packages\\ipykernel\\__main__.py:3: RuntimeWarning: invalid value encountered in true_divide\n",
      "  app.launch_new_instance()\n",
      "C:\\Users\\yangyang\\Documents\\UMICH\\Python Course Stuff\\Anaconda3\\lib\\site-packages\\ipykernel\\__main__.py:4: RuntimeWarning: invalid value encountered in true_divide\n"
     ]
    }
   ],
   "source": [
    "master_df['norm_emo_score'] = np.array(story_emo_scores)/np.array(lens)\n",
    "master_df['norm_v_score'] = np.array(story_v_scores)/np.array(lens)\n",
    "master_df['norm_a_score'] = np.array(story_a_scores)/np.array(lens)\n",
    "master_df['norm_d_score'] = np.array(story_d_scores)/np.array(lens)"
   ]
  },
  {
   "cell_type": "code",
   "execution_count": 187,
   "metadata": {},
   "outputs": [],
   "source": [
    "master_df.to_csv(\"master_df.csv\")"
   ]
  },
  {
   "cell_type": "code",
   "execution_count": 202,
   "metadata": {
    "scrolled": true
   },
   "outputs": [
    {
     "name": "stderr",
     "output_type": "stream",
     "text": [
      "C:\\Users\\yangyang\\Documents\\UMICH\\Python Course Stuff\\Anaconda3\\lib\\site-packages\\numpy\\lib\\function_base.py:780: RuntimeWarning: invalid value encountered in greater_equal\n",
      "  keep = (tmp_a >= first_edge)\n",
      "C:\\Users\\yangyang\\Documents\\UMICH\\Python Course Stuff\\Anaconda3\\lib\\site-packages\\numpy\\lib\\function_base.py:781: RuntimeWarning: invalid value encountered in less_equal\n",
      "  keep &= (tmp_a <= last_edge)\n"
     ]
    }
   ],
   "source": [
    "hist, bin_edges = np.histogram(master_df['norm_emo_score'],range=(0,1))"
   ]
  },
  {
   "cell_type": "markdown",
   "metadata": {},
   "source": [
    "# boxplots of scores"
   ]
  },
  {
   "cell_type": "code",
   "execution_count": 307,
   "metadata": {},
   "outputs": [
    {
     "data": {
      "image/png": "[encoded data removed]",
      "text/plain": [
       "<matplotlib.figure.Figure at 0xe8d6cef0>"
      ]
     },
     "metadata": {},
     "output_type": "display_data"
    }
   ],
   "source": [
    "plt.boxplot([master_df[master_df.sex=='F']['norm_emo_score'].dropna(),master_df[master_df.sex=='M']['norm_emo_score'].dropna()])\n",
    "plt.title(\"Female (1) and Male (2) emo scores\")\n",
    "plt.show()"
   ]
  },
  {
   "cell_type": "code",
   "execution_count": 308,
   "metadata": {},
   "outputs": [
    {
     "data": {
      "image/png": "[encoded data removed]",
      "text/plain": [
       "<matplotlib.figure.Figure at 0xf0576978>"
      ]
     },
     "metadata": {},
     "output_type": "display_data"
    }
   ],
   "source": [
    "plt.boxplot([master_df[master_df.sex=='F']['norm_v_score'].dropna(),master_df[master_df.sex=='M']['norm_v_score'].dropna()])\n",
    "plt.title(\"Female (1) and Male (2) v scores\")\n",
    "plt.show()"
   ]
  },
  {
   "cell_type": "code",
   "execution_count": 309,
   "metadata": {},
   "outputs": [
    {
     "data": {
      "image/png": "[encoded data removed]",
      "text/plain": [
       "<matplotlib.figure.Figure at 0xf081c2b0>"
      ]
     },
     "metadata": {},
     "output_type": "display_data"
    }
   ],
   "source": [
    "plt.boxplot([master_df[master_df.sex=='F']['norm_a_score'].dropna(),master_df[master_df.sex=='M']['norm_a_score'].dropna()])\n",
    "plt.title(\"Female (1) and Male (2) a scores\")\n",
    "plt.show()"
   ]
  },
  {
   "cell_type": "code",
   "execution_count": 310,
   "metadata": {},
   "outputs": [
    {
     "data": {
      "image/png": "[encoded data removed]",
      "text/plain": [
       "<matplotlib.figure.Figure at 0xf0616ac8>"
      ]
     },
     "metadata": {},
     "output_type": "display_data"
    }
   ],
   "source": [
    "plt.boxplot([master_df[master_df.sex=='F']['norm_d_score'].dropna(),master_df[master_df.sex=='M']['norm_d_score'].dropna()])\n",
    "plt.title(\"Female (1) and Male (2) d scores\")\n",
    "plt.show()"
   ]
  },
  {
   "cell_type": "markdown",
   "metadata": {},
   "source": [
    "# histogram of scores"
   ]
  },
  {
   "cell_type": "code",
   "execution_count": 279,
   "metadata": {},
   "outputs": [
    {
     "data": {
      "image/png": "[encoded data removed]",
      "text/plain": [
       "<matplotlib.figure.Figure at 0xef3c7e10>"
      ]
     },
     "metadata": {},
     "output_type": "display_data"
    }
   ],
   "source": [
    "import random\n",
    "import numpy\n",
    "from matplotlib import pyplot\n",
    "\n",
    "x = master_df[master_df.sex=='F']['norm_emo_score'].dropna()\n",
    "y = master_df[master_df.sex=='M']['norm_emo_score'].dropna()\n",
    "\n",
    "bins = np.linspace(0, 0.3, 30)\n",
    "\n",
    "pyplot.hist(x, bins, alpha=0.5, label='female',range=(0,0.3))\n",
    "pyplot.hist(y, bins, alpha=0.5, label='male',range=(0,0.3))\n",
    "# plt.hist([x, y], bins, label=['x', 'y'], range = (0,0.3))\n",
    "plt.axvline(x.mean(), color='b', linestyle='dashed', linewidth=0.5)\n",
    "plt.axvline(y.mean(), color='g', linestyle='dashed', linewidth=0.5)\n",
    "plt.title(\"Histogram emo scores by author gender\")\n",
    "pyplot.legend(loc='upper right')\n",
    "pyplot.show()"
   ]
  },
  {
   "cell_type": "code",
   "execution_count": 293,
   "metadata": {},
   "outputs": [
    {
     "data": {
      "image/png": "[encoded data removed]",
      "text/plain": [
       "<matplotlib.figure.Figure at 0xe92df588>"
      ]
     },
     "metadata": {},
     "output_type": "display_data"
    }
   ],
   "source": [
    "x = master_df[master_df.sex=='F']['norm_v_score'].dropna()\n",
    "y = master_df[master_df.sex=='M']['norm_v_score'].dropna()\n",
    "\n",
    "bins = np.linspace(0.1,0.3,30)\n",
    "# bins = 'auto'\n",
    "\n",
    "pyplot.hist(x, bins, alpha=0.5, label='female',range=(0.1,0.3))\n",
    "pyplot.hist(y, bins, alpha=0.5, label='male',range=(0.1,0.3))\n",
    "# plt.hist([x, y], bins, label=['x', 'y'], range = (0,0.3))\n",
    "plt.axvline(x.mean(), color='b', linestyle='dashed', linewidth=0.5)\n",
    "plt.axvline(y.mean(), color='g', linestyle='dashed', linewidth=0.5)\n",
    "plt.title(\"Histogram v scores by author gender\")\n",
    "pyplot.legend(loc='upper right')\n",
    "pyplot.show()"
   ]
  },
  {
   "cell_type": "code",
   "execution_count": 295,
   "metadata": {},
   "outputs": [
    {
     "data": {
      "image/png": "[encoded data removed]",
      "text/plain": [
       "<matplotlib.figure.Figure at 0xf066cd30>"
      ]
     },
     "metadata": {},
     "output_type": "display_data"
    }
   ],
   "source": [
    "x = master_df[master_df.sex=='F']['norm_a_score'].dropna()\n",
    "y = master_df[master_df.sex=='M']['norm_a_score'].dropna()\n",
    "\n",
    "bins = np.linspace(0.1,0.25,30)\n",
    "# bins = 'auto'\n",
    "\n",
    "pyplot.hist(x, bins, alpha=0.5, label='female',range=(0.1,0.25))\n",
    "pyplot.hist(y, bins, alpha=0.5, label='male',range=(0.1,0.25))\n",
    "# plt.hist([x, y], bins, label=['x', 'y'], range = (0,0.3))\n",
    "plt.axvline(x.mean(), color='b', linestyle='dashed', linewidth=0.5)\n",
    "plt.axvline(y.mean(), color='g', linestyle='dashed', linewidth=0.5)\n",
    "plt.title(\"Histogram a scores by author gender\")\n",
    "pyplot.legend(loc='upper right')\n",
    "pyplot.show()"
   ]
  },
  {
   "cell_type": "code",
   "execution_count": 298,
   "metadata": {
    "scrolled": true
   },
   "outputs": [
    {
     "data": {
      "image/png": "[encoded data removed]",
      "text/plain": [
       "<matplotlib.figure.Figure at 0xe936d780>"
      ]
     },
     "metadata": {},
     "output_type": "display_data"
    }
   ],
   "source": [
    "x = master_df[master_df.sex=='F']['norm_d_score'].dropna()\n",
    "y = master_df[master_df.sex=='M']['norm_d_score'].dropna()\n",
    "\n",
    "bins = np.linspace(0.1,0.25,30)\n",
    "# bins = 'auto'\n",
    "\n",
    "pyplot.hist(x, bins, alpha=0.5, label='female',range=(0.1,0.25))\n",
    "pyplot.hist(y, bins, alpha=0.5, label='male',range=(0.1,0.25))\n",
    "# plt.hist([x, y], bins, label=['x', 'y'], range = (0,0.3))\n",
    "plt.axvline(x.mean(), color='b', linestyle='dashed', linewidth=0.5)\n",
    "plt.axvline(y.mean(), color='g', linestyle='dashed', linewidth=0.5)\n",
    "plt.title(\"Histogram d scores by author gender\")\n",
    "pyplot.legend(loc='upper right')\n",
    "pyplot.show()"
   ]
  },
  {
   "cell_type": "code",
   "execution_count": null,
   "metadata": {},
   "outputs": [],
   "source": []
  }
 ],
 "metadata": {
  "anaconda-cloud": {},
  "kernelspec": {
   "display_name": "Python 3",
   "language": "python",
   "name": "python3"
  },
  "language_info": {
   "codemirror_mode": {
    "name": "ipython",
    "version": 3
   },
   "file_extension": ".py",
   "mimetype": "text/x-python",
   "name": "python",
   "nbconvert_exporter": "python",
   "pygments_lexer": "ipython3",
   "version": "3.7.3"
  }
 },
 "nbformat": 4,
 "nbformat_minor": 1
}
